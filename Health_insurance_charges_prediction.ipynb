{
 "cells": [
  {
   "cell_type": "markdown",
   "id": "21327f68",
   "metadata": {},
   "source": [
    "<h2><font color='red'> Predicting Insurance Charges based on the Following:</font></h2>\n",
    "    <ol>\n",
    "    <li>Age of the Person</li>\n",
    "     <li>Sex - whether male or Female</li>\n",
    "         <li>BMI - Body mass Index of the Individual</li>\n",
    "             <li>Smoker Status : of Yes/No</li>\n",
    "                     <li>Region/Location of the Person</li> \n",
    "    <li>charges: Individual medical costs billed by health insurance</li>\n",
    "</ol>\n",
    "<p>\n",
    "Dataset Source: https://www.kaggle.com/code/vighneshutamse/linear-regression-in-pytorch-insurance-dataset/data\n",
    "</p>"
   ]
  },
  {
   "cell_type": "code",
   "execution_count": 635,
   "id": "41bff878",
   "metadata": {},
   "outputs": [],
   "source": [
    "#Imprting packages\n",
    "import pandas as pd\n",
    "import numpy as np\n",
    "from matplotlib import pyplot as plt\n",
    "import seaborn as sns\n",
    "import warnings\n",
    "warnings.filterwarnings(\"ignore\")\n",
    "from sklearn.linear_model import LinearRegression\n",
    "from sklearn.ensemble import RandomForestRegressor\n",
    "from sklearn.preprocessing import PolynomialFeatures, StandardScaler, MinMaxScaler\n",
    "from sklearn.impute import  SimpleImputer\n",
    "from sklearn.model_selection import train_test_split, cross_val_score\n",
    "from sklearn.metrics import r2_score,mean_squared_error, mean_absolute_error, median_absolute_error\n",
    "from sklearn.model_selection import GridSearchCV,RandomizedSearchCV\n",
    "\n",
    "\n",
    "from scipy.stats import uniform as sp_randFloat\n",
    "from scipy.stats import randint as sp_randInt"
   ]
  },
  {
   "cell_type": "markdown",
   "id": "dca8baee",
   "metadata": {},
   "source": [
    "<h3> Reading Data</h3>"
   ]
  },
  {
   "cell_type": "code",
   "execution_count": 636,
   "id": "10218530",
   "metadata": {},
   "outputs": [
    {
     "data": {
      "text/html": [
       "<div>\n",
       "<style scoped>\n",
       "    .dataframe tbody tr th:only-of-type {\n",
       "        vertical-align: middle;\n",
       "    }\n",
       "\n",
       "    .dataframe tbody tr th {\n",
       "        vertical-align: top;\n",
       "    }\n",
       "\n",
       "    .dataframe thead th {\n",
       "        text-align: right;\n",
       "    }\n",
       "</style>\n",
       "<table border=\"1\" class=\"dataframe\">\n",
       "  <thead>\n",
       "    <tr style=\"text-align: right;\">\n",
       "      <th></th>\n",
       "      <th>age</th>\n",
       "      <th>sex</th>\n",
       "      <th>bmi</th>\n",
       "      <th>children</th>\n",
       "      <th>smoker</th>\n",
       "      <th>region</th>\n",
       "      <th>charges</th>\n",
       "    </tr>\n",
       "  </thead>\n",
       "  <tbody>\n",
       "    <tr>\n",
       "      <th>0</th>\n",
       "      <td>19</td>\n",
       "      <td>female</td>\n",
       "      <td>27.900</td>\n",
       "      <td>0</td>\n",
       "      <td>yes</td>\n",
       "      <td>southwest</td>\n",
       "      <td>16884.92400</td>\n",
       "    </tr>\n",
       "    <tr>\n",
       "      <th>1</th>\n",
       "      <td>18</td>\n",
       "      <td>male</td>\n",
       "      <td>33.770</td>\n",
       "      <td>1</td>\n",
       "      <td>no</td>\n",
       "      <td>southeast</td>\n",
       "      <td>1725.55230</td>\n",
       "    </tr>\n",
       "    <tr>\n",
       "      <th>2</th>\n",
       "      <td>28</td>\n",
       "      <td>male</td>\n",
       "      <td>33.000</td>\n",
       "      <td>3</td>\n",
       "      <td>no</td>\n",
       "      <td>southeast</td>\n",
       "      <td>4449.46200</td>\n",
       "    </tr>\n",
       "    <tr>\n",
       "      <th>3</th>\n",
       "      <td>33</td>\n",
       "      <td>male</td>\n",
       "      <td>22.705</td>\n",
       "      <td>0</td>\n",
       "      <td>no</td>\n",
       "      <td>northwest</td>\n",
       "      <td>21984.47061</td>\n",
       "    </tr>\n",
       "    <tr>\n",
       "      <th>4</th>\n",
       "      <td>32</td>\n",
       "      <td>male</td>\n",
       "      <td>28.880</td>\n",
       "      <td>0</td>\n",
       "      <td>no</td>\n",
       "      <td>northwest</td>\n",
       "      <td>3866.85520</td>\n",
       "    </tr>\n",
       "  </tbody>\n",
       "</table>\n",
       "</div>"
      ],
      "text/plain": [
       "   age     sex     bmi  children smoker     region      charges\n",
       "0   19  female  27.900         0    yes  southwest  16884.92400\n",
       "1   18    male  33.770         1     no  southeast   1725.55230\n",
       "2   28    male  33.000         3     no  southeast   4449.46200\n",
       "3   33    male  22.705         0     no  northwest  21984.47061\n",
       "4   32    male  28.880         0     no  northwest   3866.85520"
      ]
     },
     "execution_count": 636,
     "metadata": {},
     "output_type": "execute_result"
    }
   ],
   "source": [
    "# Read Data \n",
    "df = pd.read_csv('data/insurance_dataset.csv')\n",
    "df.head()"
   ]
  },
  {
   "cell_type": "code",
   "execution_count": 637,
   "id": "5c3718f7",
   "metadata": {},
   "outputs": [
    {
     "data": {
      "text/plain": [
       "age           int64\n",
       "sex          object\n",
       "bmi         float64\n",
       "children      int64\n",
       "smoker       object\n",
       "region       object\n",
       "charges     float64\n",
       "dtype: object"
      ]
     },
     "execution_count": 637,
     "metadata": {},
     "output_type": "execute_result"
    }
   ],
   "source": [
    "#Data Types in dataset\n",
    "df.dtypes"
   ]
  },
  {
   "cell_type": "markdown",
   "id": "b3882ca8",
   "metadata": {},
   "source": [
    "<p> An overview of the data types shows that sex, smoker and \n",
    "region are Non Number and hence will require some EXploration<p>"
   ]
  },
  {
   "cell_type": "code",
   "execution_count": 638,
   "id": "17107439",
   "metadata": {},
   "outputs": [
    {
     "name": "stdout",
     "output_type": "stream",
     "text": [
      "<class 'pandas.core.frame.DataFrame'>\n",
      "RangeIndex: 1338 entries, 0 to 1337\n",
      "Data columns (total 7 columns):\n",
      " #   Column    Non-Null Count  Dtype  \n",
      "---  ------    --------------  -----  \n",
      " 0   age       1338 non-null   int64  \n",
      " 1   sex       1338 non-null   object \n",
      " 2   bmi       1338 non-null   float64\n",
      " 3   children  1338 non-null   int64  \n",
      " 4   smoker    1338 non-null   object \n",
      " 5   region    1338 non-null   object \n",
      " 6   charges   1338 non-null   float64\n",
      "dtypes: float64(2), int64(2), object(3)\n",
      "memory usage: 73.3+ KB\n"
     ]
    }
   ],
   "source": [
    "df.info()"
   ]
  },
  {
   "cell_type": "markdown",
   "id": "c5e95aeb",
   "metadata": {},
   "source": [
    "<p> The Dataset is less than 100KB<p>"
   ]
  },
  {
   "cell_type": "markdown",
   "id": "6e3cd7bf",
   "metadata": {},
   "source": [
    "<h3> Data Features</h3>"
   ]
  },
  {
   "cell_type": "code",
   "execution_count": 639,
   "id": "fb83918b",
   "metadata": {},
   "outputs": [
    {
     "name": "stdout",
     "output_type": "stream",
     "text": [
      "Dataset has 1338 rows and 7 columns\n"
     ]
    }
   ],
   "source": [
    "#Number of Rows and Columns\n",
    "rows, col = df.shape\n",
    "print(f\"Dataset has {rows} rows and {col} columns\")"
   ]
  },
  {
   "cell_type": "code",
   "execution_count": 640,
   "id": "0e95cbf9",
   "metadata": {},
   "outputs": [
    {
     "data": {
      "text/plain": [
       "Index(['age', 'sex', 'bmi', 'children', 'smoker', 'region', 'charges'], dtype='object')"
      ]
     },
     "execution_count": 640,
     "metadata": {},
     "output_type": "execute_result"
    }
   ],
   "source": [
    "#Columns in dataset\n",
    "df.columns"
   ]
  },
  {
   "cell_type": "code",
   "execution_count": 641,
   "id": "0acc2be8",
   "metadata": {},
   "outputs": [
    {
     "data": {
      "text/plain": [
       "array(['female', 'male'], dtype=object)"
      ]
     },
     "execution_count": 641,
     "metadata": {},
     "output_type": "execute_result"
    }
   ],
   "source": [
    "#Column Uniqueness\n",
    "df.sex.unique()"
   ]
  },
  {
   "cell_type": "markdown",
   "id": "ca0c1d38",
   "metadata": {},
   "source": [
    "<p> Two unique Colums in Sex with no NULL Value</p>"
   ]
  },
  {
   "cell_type": "code",
   "execution_count": 642,
   "id": "1ce9c853",
   "metadata": {},
   "outputs": [
    {
     "data": {
      "text/plain": [
       "array(['yes', 'no'], dtype=object)"
      ]
     },
     "execution_count": 642,
     "metadata": {},
     "output_type": "execute_result"
    }
   ],
   "source": [
    "df.smoker.unique()"
   ]
  },
  {
   "cell_type": "markdown",
   "id": "ec654931",
   "metadata": {},
   "source": [
    "<p> Two unique Colums in Smoker - Showing that you are either a smoker or not</p>"
   ]
  },
  {
   "cell_type": "code",
   "execution_count": 643,
   "id": "384aabce",
   "metadata": {
    "scrolled": true
   },
   "outputs": [
    {
     "data": {
      "text/plain": [
       "array(['southwest', 'southeast', 'northwest', 'northeast'], dtype=object)"
      ]
     },
     "execution_count": 643,
     "metadata": {},
     "output_type": "execute_result"
    }
   ],
   "source": [
    "df.region.unique()"
   ]
  },
  {
   "cell_type": "markdown",
   "id": "42d438fb",
   "metadata": {},
   "source": [
    "<h3>Data Cleaning</h3>"
   ]
  },
  {
   "cell_type": "markdown",
   "id": "ec730be5",
   "metadata": {},
   "source": [
    "<h6> Checking for missing Values</h6>"
   ]
  },
  {
   "cell_type": "code",
   "execution_count": 644,
   "id": "4f11d051",
   "metadata": {
    "scrolled": true
   },
   "outputs": [
    {
     "data": {
      "text/plain": [
       "age         0\n",
       "sex         0\n",
       "bmi         0\n",
       "children    0\n",
       "smoker      0\n",
       "region      0\n",
       "charges     0\n",
       "dtype: int64"
      ]
     },
     "execution_count": 644,
     "metadata": {},
     "output_type": "execute_result"
    }
   ],
   "source": [
    "df.isnull().sum()"
   ]
  },
  {
   "cell_type": "markdown",
   "id": "76a62565",
   "metadata": {},
   "source": [
    "<p> This shows that we do not have any missing values</p>"
   ]
  },
  {
   "cell_type": "markdown",
   "id": "d10d9bb9",
   "metadata": {},
   "source": [
    "<h4>Checking for Duplicate Values</h4>"
   ]
  },
  {
   "cell_type": "code",
   "execution_count": 645,
   "id": "10b9428f",
   "metadata": {
    "scrolled": true
   },
   "outputs": [
    {
     "data": {
      "text/plain": [
       "1"
      ]
     },
     "execution_count": 645,
     "metadata": {},
     "output_type": "execute_result"
    }
   ],
   "source": [
    "df.duplicated().sum()"
   ]
  },
  {
   "cell_type": "code",
   "execution_count": 646,
   "id": "41570b6c",
   "metadata": {},
   "outputs": [
    {
     "data": {
      "text/html": [
       "<div>\n",
       "<style scoped>\n",
       "    .dataframe tbody tr th:only-of-type {\n",
       "        vertical-align: middle;\n",
       "    }\n",
       "\n",
       "    .dataframe tbody tr th {\n",
       "        vertical-align: top;\n",
       "    }\n",
       "\n",
       "    .dataframe thead th {\n",
       "        text-align: right;\n",
       "    }\n",
       "</style>\n",
       "<table border=\"1\" class=\"dataframe\">\n",
       "  <thead>\n",
       "    <tr style=\"text-align: right;\">\n",
       "      <th></th>\n",
       "      <th>age</th>\n",
       "      <th>sex</th>\n",
       "      <th>bmi</th>\n",
       "      <th>children</th>\n",
       "      <th>smoker</th>\n",
       "      <th>region</th>\n",
       "      <th>charges</th>\n",
       "    </tr>\n",
       "  </thead>\n",
       "  <tbody>\n",
       "    <tr>\n",
       "      <th>581</th>\n",
       "      <td>19</td>\n",
       "      <td>male</td>\n",
       "      <td>30.59</td>\n",
       "      <td>0</td>\n",
       "      <td>no</td>\n",
       "      <td>northwest</td>\n",
       "      <td>1639.5631</td>\n",
       "    </tr>\n",
       "  </tbody>\n",
       "</table>\n",
       "</div>"
      ],
      "text/plain": [
       "     age   sex    bmi  children smoker     region    charges\n",
       "581   19  male  30.59         0     no  northwest  1639.5631"
      ]
     },
     "execution_count": 646,
     "metadata": {},
     "output_type": "execute_result"
    }
   ],
   "source": [
    "#Preview Duplicate\n",
    "df.loc[df.duplicated(),:]"
   ]
  },
  {
   "cell_type": "markdown",
   "id": "2541e98a",
   "metadata": {},
   "source": [
    "<p> Handling Duplicates</p>"
   ]
  },
  {
   "cell_type": "code",
   "execution_count": 647,
   "id": "7d67ffda",
   "metadata": {},
   "outputs": [],
   "source": [
    "#handling Fuplicates\n",
    "df.drop_duplicates(keep='first',inplace=True)"
   ]
  },
  {
   "cell_type": "code",
   "execution_count": 648,
   "id": "e296ef91",
   "metadata": {
    "scrolled": true
   },
   "outputs": [
    {
     "data": {
      "text/plain": [
       "0"
      ]
     },
     "execution_count": 648,
     "metadata": {},
     "output_type": "execute_result"
    }
   ],
   "source": [
    "df.duplicated().sum()"
   ]
  },
  {
   "cell_type": "code",
   "execution_count": 649,
   "id": "973b6596",
   "metadata": {
    "scrolled": true
   },
   "outputs": [
    {
     "data": {
      "text/plain": [
       "(1337, 7)"
      ]
     },
     "execution_count": 649,
     "metadata": {},
     "output_type": "execute_result"
    }
   ],
   "source": [
    "# Showimg data set after Duplicate Removal\n",
    "df.shape"
   ]
  },
  {
   "cell_type": "markdown",
   "id": "231c147b",
   "metadata": {},
   "source": [
    "<h5>Data Preview at a Glance on quantitative features </h5>"
   ]
  },
  {
   "cell_type": "code",
   "execution_count": 650,
   "id": "e0741659",
   "metadata": {},
   "outputs": [
    {
     "data": {
      "text/html": [
       "<div>\n",
       "<style scoped>\n",
       "    .dataframe tbody tr th:only-of-type {\n",
       "        vertical-align: middle;\n",
       "    }\n",
       "\n",
       "    .dataframe tbody tr th {\n",
       "        vertical-align: top;\n",
       "    }\n",
       "\n",
       "    .dataframe thead th {\n",
       "        text-align: right;\n",
       "    }\n",
       "</style>\n",
       "<table border=\"1\" class=\"dataframe\">\n",
       "  <thead>\n",
       "    <tr style=\"text-align: right;\">\n",
       "      <th></th>\n",
       "      <th>sex</th>\n",
       "      <th>smoker</th>\n",
       "      <th>region</th>\n",
       "    </tr>\n",
       "  </thead>\n",
       "  <tbody>\n",
       "    <tr>\n",
       "      <th>count</th>\n",
       "      <td>1337</td>\n",
       "      <td>1337</td>\n",
       "      <td>1337</td>\n",
       "    </tr>\n",
       "    <tr>\n",
       "      <th>unique</th>\n",
       "      <td>2</td>\n",
       "      <td>2</td>\n",
       "      <td>4</td>\n",
       "    </tr>\n",
       "    <tr>\n",
       "      <th>top</th>\n",
       "      <td>male</td>\n",
       "      <td>no</td>\n",
       "      <td>southeast</td>\n",
       "    </tr>\n",
       "    <tr>\n",
       "      <th>freq</th>\n",
       "      <td>675</td>\n",
       "      <td>1063</td>\n",
       "      <td>364</td>\n",
       "    </tr>\n",
       "  </tbody>\n",
       "</table>\n",
       "</div>"
      ],
      "text/plain": [
       "         sex smoker     region\n",
       "count   1337   1337       1337\n",
       "unique     2      2          4\n",
       "top     male     no  southeast\n",
       "freq     675   1063        364"
      ]
     },
     "metadata": {},
     "output_type": "display_data"
    }
   ],
   "source": [
    "display(df.describe(include=['O']))"
   ]
  },
  {
   "cell_type": "markdown",
   "id": "544bf044",
   "metadata": {},
   "source": [
    "<p>Obviously, the dataset has more Males than Females, with less Smokers and more Southeasterners </p>"
   ]
  },
  {
   "cell_type": "markdown",
   "id": "82d3b26f",
   "metadata": {},
   "source": [
    "<h4>Checking for Outliers</h4>"
   ]
  },
  {
   "cell_type": "code",
   "execution_count": 651,
   "id": "cb69e89a",
   "metadata": {},
   "outputs": [
    {
     "data": {
      "text/html": [
       "<div>\n",
       "<style scoped>\n",
       "    .dataframe tbody tr th:only-of-type {\n",
       "        vertical-align: middle;\n",
       "    }\n",
       "\n",
       "    .dataframe tbody tr th {\n",
       "        vertical-align: top;\n",
       "    }\n",
       "\n",
       "    .dataframe thead th {\n",
       "        text-align: right;\n",
       "    }\n",
       "</style>\n",
       "<table border=\"1\" class=\"dataframe\">\n",
       "  <thead>\n",
       "    <tr style=\"text-align: right;\">\n",
       "      <th></th>\n",
       "      <th>age</th>\n",
       "      <th>bmi</th>\n",
       "      <th>children</th>\n",
       "      <th>charges</th>\n",
       "    </tr>\n",
       "  </thead>\n",
       "  <tbody>\n",
       "    <tr>\n",
       "      <th>count</th>\n",
       "      <td>1337.000000</td>\n",
       "      <td>1337.000000</td>\n",
       "      <td>1337.000000</td>\n",
       "      <td>1337.000000</td>\n",
       "    </tr>\n",
       "    <tr>\n",
       "      <th>mean</th>\n",
       "      <td>39.222139</td>\n",
       "      <td>30.663452</td>\n",
       "      <td>1.095737</td>\n",
       "      <td>13279.121487</td>\n",
       "    </tr>\n",
       "    <tr>\n",
       "      <th>std</th>\n",
       "      <td>14.044333</td>\n",
       "      <td>6.100468</td>\n",
       "      <td>1.205571</td>\n",
       "      <td>12110.359656</td>\n",
       "    </tr>\n",
       "    <tr>\n",
       "      <th>min</th>\n",
       "      <td>18.000000</td>\n",
       "      <td>15.960000</td>\n",
       "      <td>0.000000</td>\n",
       "      <td>1121.873900</td>\n",
       "    </tr>\n",
       "    <tr>\n",
       "      <th>25%</th>\n",
       "      <td>27.000000</td>\n",
       "      <td>26.290000</td>\n",
       "      <td>0.000000</td>\n",
       "      <td>4746.344000</td>\n",
       "    </tr>\n",
       "    <tr>\n",
       "      <th>50%</th>\n",
       "      <td>39.000000</td>\n",
       "      <td>30.400000</td>\n",
       "      <td>1.000000</td>\n",
       "      <td>9386.161300</td>\n",
       "    </tr>\n",
       "    <tr>\n",
       "      <th>75%</th>\n",
       "      <td>51.000000</td>\n",
       "      <td>34.700000</td>\n",
       "      <td>2.000000</td>\n",
       "      <td>16657.717450</td>\n",
       "    </tr>\n",
       "    <tr>\n",
       "      <th>max</th>\n",
       "      <td>64.000000</td>\n",
       "      <td>53.130000</td>\n",
       "      <td>5.000000</td>\n",
       "      <td>63770.428010</td>\n",
       "    </tr>\n",
       "  </tbody>\n",
       "</table>\n",
       "</div>"
      ],
      "text/plain": [
       "               age          bmi     children       charges\n",
       "count  1337.000000  1337.000000  1337.000000   1337.000000\n",
       "mean     39.222139    30.663452     1.095737  13279.121487\n",
       "std      14.044333     6.100468     1.205571  12110.359656\n",
       "min      18.000000    15.960000     0.000000   1121.873900\n",
       "25%      27.000000    26.290000     0.000000   4746.344000\n",
       "50%      39.000000    30.400000     1.000000   9386.161300\n",
       "75%      51.000000    34.700000     2.000000  16657.717450\n",
       "max      64.000000    53.130000     5.000000  63770.428010"
      ]
     },
     "execution_count": 651,
     "metadata": {},
     "output_type": "execute_result"
    }
   ],
   "source": [
    "# Using Describe to Preview Possible Outlier\n",
    "df.describe()"
   ]
  },
  {
   "cell_type": "markdown",
   "id": "1b57f87e",
   "metadata": {},
   "source": [
    "<p>There Appears to be a possible Outlier in Charges considering the distance between \n",
    "mean charges and max charges but let explore more </p>"
   ]
  },
  {
   "cell_type": "code",
   "execution_count": 652,
   "id": "238ea060",
   "metadata": {},
   "outputs": [
    {
     "data": {
      "text/plain": [
       "(array([535., 398., 129.,  86.,  35.,  59.,  57.,  32.,   2.,   4.]),\n",
       " array([ 1121.8739  ,  7386.729311, 13651.584722, 19916.440133,\n",
       "        26181.295544, 32446.150955, 38711.006366, 44975.861777,\n",
       "        51240.717188, 57505.572599, 63770.42801 ]),\n",
       " <BarContainer object of 10 artists>)"
      ]
     },
     "execution_count": 652,
     "metadata": {},
     "output_type": "execute_result"
    },
    {
     "data": {
      "image/png": "[encoded data removed]",
      "text/plain": [
       "<Figure size 432x288 with 1 Axes>"
      ]
     },
     "metadata": {
      "needs_background": "light"
     },
     "output_type": "display_data"
    }
   ],
   "source": [
    "#Historgram Preview \n",
    "# historgram\n",
    "plt.hist(df['charges'])"
   ]
  },
  {
   "cell_type": "code",
   "execution_count": 653,
   "id": "5ce3c9c2",
   "metadata": {},
   "outputs": [
    {
     "data": {
      "text/plain": [
       "<AxesSubplot:>"
      ]
     },
     "execution_count": 653,
     "metadata": {},
     "output_type": "execute_result"
    },
    {
     "data": {
      "image/png": "[encoded data removed]",
      "text/plain": [
       "<Figure size 432x288 with 1 Axes>"
      ]
     },
     "metadata": {
      "needs_background": "light"
     },
     "output_type": "display_data"
    }
   ],
   "source": [
    "df.boxplot(column=['charges'])"
   ]
  },
  {
   "cell_type": "markdown",
   "id": "1050ee07",
   "metadata": {},
   "source": [
    "<p> Obviously, charges has an outlier</p>\n",
    "<h5> Outlier Removal</h5>"
   ]
  },
  {
   "cell_type": "code",
   "execution_count": 654,
   "id": "02522e7f",
   "metadata": {
    "scrolled": true
   },
   "outputs": [
    {
     "name": "stdout",
     "output_type": "stream",
     "text": [
      "Number of outliers: 7\n",
      "Outliers: [51194.55914, 63770.42801, 58571.07448, 55135.40209, 52590.82939, 60021.39897, 62592.87309]\n"
     ]
    }
   ],
   "source": [
    "df2 = df.copy()\n",
    "\n",
    "\n",
    "mean = df2[\"charges\"].mean()\n",
    "sigma =df2[\"charges\"].std()\n",
    "# print(\"Mean: {:.2f}\".format(mean))\n",
    "# print(\"Standard Deviation: {:.2f}\".format(sigma))\n",
    "lower_range = mean-(3*sigma)\n",
    "upper_range = mean+(3*sigma)\n",
    "outliers = [i for i in df2[\"charges\"] if i<lower_range or i>upper_range]\n",
    "print(\"Number of outliers:\",len(outliers))\n",
    "print(\"Outliers:\", outliers)\n",
    "\n"
   ]
  },
  {
   "cell_type": "code",
   "execution_count": 655,
   "id": "2290e276",
   "metadata": {},
   "outputs": [],
   "source": [
    "# Remove Rows that are Outliers\n",
    "df2.drop(df2[(df2[\"charges\"]<lower_range) | (df2[\"charges\"]>upper_range)].index, inplace=True)"
   ]
  },
  {
   "cell_type": "code",
   "execution_count": 656,
   "id": "ba1f116a",
   "metadata": {},
   "outputs": [
    {
     "data": {
      "text/plain": [
       "(1330, 7)"
      ]
     },
     "execution_count": 656,
     "metadata": {},
     "output_type": "execute_result"
    }
   ],
   "source": [
    "# Confirm the new Shape\n",
    "df2.shape"
   ]
  },
  {
   "cell_type": "code",
   "execution_count": 657,
   "id": "67fde7ba",
   "metadata": {},
   "outputs": [
    {
     "data": {
      "text/html": [
       "<div>\n",
       "<style scoped>\n",
       "    .dataframe tbody tr th:only-of-type {\n",
       "        vertical-align: middle;\n",
       "    }\n",
       "\n",
       "    .dataframe tbody tr th {\n",
       "        vertical-align: top;\n",
       "    }\n",
       "\n",
       "    .dataframe thead th {\n",
       "        text-align: right;\n",
       "    }\n",
       "</style>\n",
       "<table border=\"1\" class=\"dataframe\">\n",
       "  <thead>\n",
       "    <tr style=\"text-align: right;\">\n",
       "      <th></th>\n",
       "      <th>age</th>\n",
       "      <th>bmi</th>\n",
       "      <th>children</th>\n",
       "      <th>charges</th>\n",
       "    </tr>\n",
       "  </thead>\n",
       "  <tbody>\n",
       "    <tr>\n",
       "      <th>count</th>\n",
       "      <td>1330.000000</td>\n",
       "      <td>1330.000000</td>\n",
       "      <td>1330.000000</td>\n",
       "      <td>1330.000000</td>\n",
       "    </tr>\n",
       "    <tr>\n",
       "      <th>mean</th>\n",
       "      <td>39.200752</td>\n",
       "      <td>30.633049</td>\n",
       "      <td>1.097744</td>\n",
       "      <td>13045.345009</td>\n",
       "    </tr>\n",
       "    <tr>\n",
       "      <th>std</th>\n",
       "      <td>14.052396</td>\n",
       "      <td>6.091072</td>\n",
       "      <td>1.206108</td>\n",
       "      <td>11699.581595</td>\n",
       "    </tr>\n",
       "    <tr>\n",
       "      <th>min</th>\n",
       "      <td>18.000000</td>\n",
       "      <td>15.960000</td>\n",
       "      <td>0.000000</td>\n",
       "      <td>1121.873900</td>\n",
       "    </tr>\n",
       "    <tr>\n",
       "      <th>25%</th>\n",
       "      <td>26.250000</td>\n",
       "      <td>26.220000</td>\n",
       "      <td>0.000000</td>\n",
       "      <td>4724.369462</td>\n",
       "    </tr>\n",
       "    <tr>\n",
       "      <th>50%</th>\n",
       "      <td>39.000000</td>\n",
       "      <td>30.302500</td>\n",
       "      <td>1.000000</td>\n",
       "      <td>9303.297725</td>\n",
       "    </tr>\n",
       "    <tr>\n",
       "      <th>75%</th>\n",
       "      <td>51.000000</td>\n",
       "      <td>34.600000</td>\n",
       "      <td>2.000000</td>\n",
       "      <td>16389.832412</td>\n",
       "    </tr>\n",
       "    <tr>\n",
       "      <th>max</th>\n",
       "      <td>64.000000</td>\n",
       "      <td>53.130000</td>\n",
       "      <td>5.000000</td>\n",
       "      <td>49577.662400</td>\n",
       "    </tr>\n",
       "  </tbody>\n",
       "</table>\n",
       "</div>"
      ],
      "text/plain": [
       "               age          bmi     children       charges\n",
       "count  1330.000000  1330.000000  1330.000000   1330.000000\n",
       "mean     39.200752    30.633049     1.097744  13045.345009\n",
       "std      14.052396     6.091072     1.206108  11699.581595\n",
       "min      18.000000    15.960000     0.000000   1121.873900\n",
       "25%      26.250000    26.220000     0.000000   4724.369462\n",
       "50%      39.000000    30.302500     1.000000   9303.297725\n",
       "75%      51.000000    34.600000     2.000000  16389.832412\n",
       "max      64.000000    53.130000     5.000000  49577.662400"
      ]
     },
     "execution_count": 657,
     "metadata": {},
     "output_type": "execute_result"
    }
   ],
   "source": [
    "df2.describe()"
   ]
  },
  {
   "cell_type": "markdown",
   "id": "62a771f7",
   "metadata": {},
   "source": [
    "<p> The Dataset is better now consdering Values from Charges</p>"
   ]
  },
  {
   "cell_type": "markdown",
   "id": "c1f326cc",
   "metadata": {},
   "source": [
    "<h3> Data Visualization</h3>"
   ]
  },
  {
   "cell_type": "markdown",
   "id": "6561ade3",
   "metadata": {},
   "source": [
    "<p> Since much has been done on the Dataset and cleaned, visualization will help\n",
    "to see the relationships among \n",
    "    Numeric Features and the target variable (Charges)</p>"
   ]
  },
  {
   "cell_type": "code",
   "execution_count": 658,
   "id": "b8e3a40c",
   "metadata": {},
   "outputs": [
    {
     "data": {
      "image/png": "[encoded data removed]",
      "text/plain": [
       "<Figure size 720x720 with 20 Axes>"
      ]
     },
     "metadata": {
      "needs_background": "light"
     },
     "output_type": "display_data"
    }
   ],
   "source": [
    "# Plotting the features\n",
    "sns.pairplot(data=df2, diag_kind='kde')\n",
    "plt.show()"
   ]
  },
  {
   "cell_type": "markdown",
   "id": "b93e4772",
   "metadata": {},
   "source": [
    "<p>\n",
    "<ol>\n",
    "<li>Charges and bmi seem to have a fairly Normal Distribution</li>\n",
    "<li>Charges and Age has some sort of a Positive Correlation - both decreasing or increasing together</li>\n",
    "</ol>\n",
    "\n",
    "</p>"
   ]
  },
  {
   "cell_type": "code",
   "execution_count": 659,
   "id": "22da59ce",
   "metadata": {},
   "outputs": [
    {
     "data": {
      "image/png": "[encoded data removed]",
      "text/plain": [
       "<Figure size 1440x288 with 4 Axes>"
      ]
     },
     "metadata": {
      "needs_background": "light"
     },
     "output_type": "display_data"
    }
   ],
   "source": [
    "# Showing Counts for all categorical variables\n",
    "fig, ax2 = plt.subplots(1,4,  figsize=(20,4))\n",
    "fig.suptitle('Value Counts of Gender, Smoker, Children and Region')\n",
    "sns.countplot(ax=ax2[0], x=df2.sex)\n",
    "sns.countplot(ax=ax2[1], x=df2.smoker)\n",
    "sns.countplot(ax=ax2[2], x=df2.children)\n",
    "sns.countplot(ax=ax2[3], x=df2.region)\n",
    "plt.show()"
   ]
  },
  {
   "cell_type": "code",
   "execution_count": 660,
   "id": "165a86c2",
   "metadata": {},
   "outputs": [
    {
     "data": {
      "image/png": "[encoded data removed]",
      "text/plain": [
       "<Figure size 432x288 with 1 Axes>"
      ]
     },
     "metadata": {
      "needs_background": "light"
     },
     "output_type": "display_data"
    }
   ],
   "source": [
    "# Examine Some more Categorical Features\n",
    "# Gender Overview\n",
    "sns.countplot(df2.sex)\n",
    "plt.show()"
   ]
  },
  {
   "cell_type": "markdown",
   "id": "46a1f4d4",
   "metadata": {},
   "source": [
    "<p>There is no much difference between Males and Females Count in the dataset so it is not a major Feature</p>"
   ]
  },
  {
   "cell_type": "code",
   "execution_count": 661,
   "id": "7d3c8300",
   "metadata": {},
   "outputs": [
    {
     "data": {
      "image/png": "[encoded data removed]",
      "text/plain": [
       "<Figure size 1656x288 with 4 Axes>"
      ]
     },
     "metadata": {
      "needs_background": "light"
     },
     "output_type": "display_data"
    }
   ],
   "source": [
    "\n",
    "\n",
    "fig, ax2 = plt.subplots(1,4,  figsize=(23,4))\n",
    "fig.suptitle('Plot of Gender, Smoker, Children and Region vs Charges',)\n",
    "sns.boxplot(ax=ax2[0], x=df2.sex, y=df2.charges)\n",
    "sns.boxplot(ax=ax2[1], x=df2.smoker, y=df2.charges)\n",
    "sns.lineplot(ax=ax2[2], x=df2.children, y=df2.charges)\n",
    "sns.boxplot(ax=ax2[3], x=df2.region, y=df2.charges)\n",
    "plt.show()\n",
    "\n"
   ]
  },
  {
   "cell_type": "markdown",
   "id": "e29acfb4",
   "metadata": {},
   "source": [
    "<p><ol>\n",
    "<li>Although no much differebce between Males and females Count but Charges are higherv with Males than Females</li>\n",
    "<li>Charges are Higher with Smokers</li>\n",
    "<li>People with 2-3 Children have the highestb Charges</li>\n",
    "<li>Customers from Southeast seem to have a higher charge but overall it is Fair</li>\n",
    "</ol></p>"
   ]
  },
  {
   "cell_type": "code",
   "execution_count": 662,
   "id": "1d87f6a0",
   "metadata": {
    "scrolled": true
   },
   "outputs": [
    {
     "data": {
      "image/png": "[encoded data removed]",
      "text/plain": [
       "<Figure size 432x288 with 1 Axes>"
      ]
     },
     "metadata": {
      "needs_background": "light"
     },
     "output_type": "display_data"
    }
   ],
   "source": [
    "# Children Overview\n",
    "sns.countplot(df2.children)\n",
    "plt.show()"
   ]
  },
  {
   "cell_type": "markdown",
   "id": "a3e41ffa",
   "metadata": {},
   "source": [
    "<p> Most Persons do not have Children</p>"
   ]
  },
  {
   "cell_type": "code",
   "execution_count": 663,
   "id": "e73f76b4",
   "metadata": {},
   "outputs": [],
   "source": [
    "# Number of Children on Charges\n",
    "#sns.lineplot(df.children, df.charges)\n",
    "#plt.show()\n",
    "\n",
    "# sns.boxplot(x=df.smoker, y=df.charges)\n",
    "# plt.show()\n",
    "# Smokers have Higher Charges"
   ]
  },
  {
   "cell_type": "markdown",
   "id": "ded07be0",
   "metadata": {},
   "source": [
    "<h4> Correlation Analysis </h4>\n",
    "<p>Correlation map between charges and numeric features - age, bmi and charges</p>"
   ]
  },
  {
   "cell_type": "code",
   "execution_count": 664,
   "id": "36e7c9fb",
   "metadata": {
    "scrolled": true
   },
   "outputs": [
    {
     "data": {
      "image/png": "[encoded data removed]",
      "text/plain": [
       "<Figure size 432x288 with 2 Axes>"
      ]
     },
     "metadata": {
      "needs_background": "light"
     },
     "output_type": "display_data"
    }
   ],
   "source": [
    "sns.heatmap(df2[['age', 'bmi', 'children', 'charges']].corr(), cmap='Blues', annot=True)\n",
    "plt.show()"
   ]
  },
  {
   "cell_type": "markdown",
   "id": "6890032b",
   "metadata": {},
   "source": [
    "<p> Age has a strong effect or strongly corellated with Charges since its greater than 0.75<p>"
   ]
  },
  {
   "cell_type": "markdown",
   "id": "acfc1266",
   "metadata": {},
   "source": [
    "<h4> Encoding and Scaling</h4>"
   ]
  },
  {
   "cell_type": "code",
   "execution_count": 665,
   "id": "6c83a30b",
   "metadata": {
    "scrolled": true
   },
   "outputs": [
    {
     "data": {
      "text/html": [
       "<div>\n",
       "<style scoped>\n",
       "    .dataframe tbody tr th:only-of-type {\n",
       "        vertical-align: middle;\n",
       "    }\n",
       "\n",
       "    .dataframe tbody tr th {\n",
       "        vertical-align: top;\n",
       "    }\n",
       "\n",
       "    .dataframe thead th {\n",
       "        text-align: right;\n",
       "    }\n",
       "</style>\n",
       "<table border=\"1\" class=\"dataframe\">\n",
       "  <thead>\n",
       "    <tr style=\"text-align: right;\">\n",
       "      <th></th>\n",
       "      <th>age</th>\n",
       "      <th>sex</th>\n",
       "      <th>bmi</th>\n",
       "      <th>children</th>\n",
       "      <th>smoker</th>\n",
       "      <th>region</th>\n",
       "      <th>charges</th>\n",
       "      <th>northeast</th>\n",
       "      <th>northwest</th>\n",
       "      <th>southeast</th>\n",
       "      <th>southwest</th>\n",
       "    </tr>\n",
       "  </thead>\n",
       "  <tbody>\n",
       "    <tr>\n",
       "      <th>0</th>\n",
       "      <td>19</td>\n",
       "      <td>female</td>\n",
       "      <td>27.900</td>\n",
       "      <td>0</td>\n",
       "      <td>yes</td>\n",
       "      <td>southwest</td>\n",
       "      <td>16884.92400</td>\n",
       "      <td>0</td>\n",
       "      <td>0</td>\n",
       "      <td>0</td>\n",
       "      <td>1</td>\n",
       "    </tr>\n",
       "    <tr>\n",
       "      <th>1</th>\n",
       "      <td>18</td>\n",
       "      <td>male</td>\n",
       "      <td>33.770</td>\n",
       "      <td>1</td>\n",
       "      <td>no</td>\n",
       "      <td>southeast</td>\n",
       "      <td>1725.55230</td>\n",
       "      <td>0</td>\n",
       "      <td>0</td>\n",
       "      <td>1</td>\n",
       "      <td>0</td>\n",
       "    </tr>\n",
       "    <tr>\n",
       "      <th>2</th>\n",
       "      <td>28</td>\n",
       "      <td>male</td>\n",
       "      <td>33.000</td>\n",
       "      <td>3</td>\n",
       "      <td>no</td>\n",
       "      <td>southeast</td>\n",
       "      <td>4449.46200</td>\n",
       "      <td>0</td>\n",
       "      <td>0</td>\n",
       "      <td>1</td>\n",
       "      <td>0</td>\n",
       "    </tr>\n",
       "    <tr>\n",
       "      <th>3</th>\n",
       "      <td>33</td>\n",
       "      <td>male</td>\n",
       "      <td>22.705</td>\n",
       "      <td>0</td>\n",
       "      <td>no</td>\n",
       "      <td>northwest</td>\n",
       "      <td>21984.47061</td>\n",
       "      <td>0</td>\n",
       "      <td>1</td>\n",
       "      <td>0</td>\n",
       "      <td>0</td>\n",
       "    </tr>\n",
       "    <tr>\n",
       "      <th>4</th>\n",
       "      <td>32</td>\n",
       "      <td>male</td>\n",
       "      <td>28.880</td>\n",
       "      <td>0</td>\n",
       "      <td>no</td>\n",
       "      <td>northwest</td>\n",
       "      <td>3866.85520</td>\n",
       "      <td>0</td>\n",
       "      <td>1</td>\n",
       "      <td>0</td>\n",
       "      <td>0</td>\n",
       "    </tr>\n",
       "    <tr>\n",
       "      <th>...</th>\n",
       "      <td>...</td>\n",
       "      <td>...</td>\n",
       "      <td>...</td>\n",
       "      <td>...</td>\n",
       "      <td>...</td>\n",
       "      <td>...</td>\n",
       "      <td>...</td>\n",
       "      <td>...</td>\n",
       "      <td>...</td>\n",
       "      <td>...</td>\n",
       "      <td>...</td>\n",
       "    </tr>\n",
       "    <tr>\n",
       "      <th>1333</th>\n",
       "      <td>50</td>\n",
       "      <td>male</td>\n",
       "      <td>30.970</td>\n",
       "      <td>3</td>\n",
       "      <td>no</td>\n",
       "      <td>northwest</td>\n",
       "      <td>10600.54830</td>\n",
       "      <td>0</td>\n",
       "      <td>1</td>\n",
       "      <td>0</td>\n",
       "      <td>0</td>\n",
       "    </tr>\n",
       "    <tr>\n",
       "      <th>1334</th>\n",
       "      <td>18</td>\n",
       "      <td>female</td>\n",
       "      <td>31.920</td>\n",
       "      <td>0</td>\n",
       "      <td>no</td>\n",
       "      <td>northeast</td>\n",
       "      <td>2205.98080</td>\n",
       "      <td>1</td>\n",
       "      <td>0</td>\n",
       "      <td>0</td>\n",
       "      <td>0</td>\n",
       "    </tr>\n",
       "    <tr>\n",
       "      <th>1335</th>\n",
       "      <td>18</td>\n",
       "      <td>female</td>\n",
       "      <td>36.850</td>\n",
       "      <td>0</td>\n",
       "      <td>no</td>\n",
       "      <td>southeast</td>\n",
       "      <td>1629.83350</td>\n",
       "      <td>0</td>\n",
       "      <td>0</td>\n",
       "      <td>1</td>\n",
       "      <td>0</td>\n",
       "    </tr>\n",
       "    <tr>\n",
       "      <th>1336</th>\n",
       "      <td>21</td>\n",
       "      <td>female</td>\n",
       "      <td>25.800</td>\n",
       "      <td>0</td>\n",
       "      <td>no</td>\n",
       "      <td>southwest</td>\n",
       "      <td>2007.94500</td>\n",
       "      <td>0</td>\n",
       "      <td>0</td>\n",
       "      <td>0</td>\n",
       "      <td>1</td>\n",
       "    </tr>\n",
       "    <tr>\n",
       "      <th>1337</th>\n",
       "      <td>61</td>\n",
       "      <td>female</td>\n",
       "      <td>29.070</td>\n",
       "      <td>0</td>\n",
       "      <td>yes</td>\n",
       "      <td>northwest</td>\n",
       "      <td>29141.36030</td>\n",
       "      <td>0</td>\n",
       "      <td>1</td>\n",
       "      <td>0</td>\n",
       "      <td>0</td>\n",
       "    </tr>\n",
       "  </tbody>\n",
       "</table>\n",
       "<p>1330 rows × 11 columns</p>\n",
       "</div>"
      ],
      "text/plain": [
       "      age     sex     bmi  children smoker     region      charges  northeast  \\\n",
       "0      19  female  27.900         0    yes  southwest  16884.92400          0   \n",
       "1      18    male  33.770         1     no  southeast   1725.55230          0   \n",
       "2      28    male  33.000         3     no  southeast   4449.46200          0   \n",
       "3      33    male  22.705         0     no  northwest  21984.47061          0   \n",
       "4      32    male  28.880         0     no  northwest   3866.85520          0   \n",
       "...   ...     ...     ...       ...    ...        ...          ...        ...   \n",
       "1333   50    male  30.970         3     no  northwest  10600.54830          0   \n",
       "1334   18  female  31.920         0     no  northeast   2205.98080          1   \n",
       "1335   18  female  36.850         0     no  southeast   1629.83350          0   \n",
       "1336   21  female  25.800         0     no  southwest   2007.94500          0   \n",
       "1337   61  female  29.070         0    yes  northwest  29141.36030          0   \n",
       "\n",
       "      northwest  southeast  southwest  \n",
       "0             0          0          1  \n",
       "1             0          1          0  \n",
       "2             0          1          0  \n",
       "3             1          0          0  \n",
       "4             1          0          0  \n",
       "...         ...        ...        ...  \n",
       "1333          1          0          0  \n",
       "1334          0          0          0  \n",
       "1335          0          1          0  \n",
       "1336          0          0          1  \n",
       "1337          1          0          0  \n",
       "\n",
       "[1330 rows x 11 columns]"
      ]
     },
     "execution_count": 665,
     "metadata": {},
     "output_type": "execute_result"
    }
   ],
   "source": [
    "# Encoding the categorical features\n",
    "# Encoding the Smoker features Using pandas get_dummies\n",
    "\n",
    "dummy =pd.get_dummies(df2['region'])\n",
    "df2 = pd.concat([df2,dummy],axis=1)\n",
    "df2"
   ]
  },
  {
   "cell_type": "code",
   "execution_count": 666,
   "id": "cb651e7b",
   "metadata": {},
   "outputs": [],
   "source": [
    "# Simple 1 and 0 for Sex Features\n",
    "df2.sex.replace(to_replace=['male', 'female'], value=[1,0], inplace=True)"
   ]
  },
  {
   "cell_type": "code",
   "execution_count": 667,
   "id": "b4ab1a29",
   "metadata": {},
   "outputs": [],
   "source": [
    "# Simple 1 and 0 for Smoker Features\n",
    "df2.smoker.replace(to_replace=['yes', 'no'], value=[1,0], inplace=True)"
   ]
  },
  {
   "cell_type": "code",
   "execution_count": 668,
   "id": "f9cdca6e",
   "metadata": {
    "scrolled": true
   },
   "outputs": [
    {
     "data": {
      "text/html": [
       "<div>\n",
       "<style scoped>\n",
       "    .dataframe tbody tr th:only-of-type {\n",
       "        vertical-align: middle;\n",
       "    }\n",
       "\n",
       "    .dataframe tbody tr th {\n",
       "        vertical-align: top;\n",
       "    }\n",
       "\n",
       "    .dataframe thead th {\n",
       "        text-align: right;\n",
       "    }\n",
       "</style>\n",
       "<table border=\"1\" class=\"dataframe\">\n",
       "  <thead>\n",
       "    <tr style=\"text-align: right;\">\n",
       "      <th></th>\n",
       "      <th>age</th>\n",
       "      <th>sex</th>\n",
       "      <th>bmi</th>\n",
       "      <th>children</th>\n",
       "      <th>smoker</th>\n",
       "      <th>region</th>\n",
       "      <th>charges</th>\n",
       "      <th>northeast</th>\n",
       "      <th>northwest</th>\n",
       "      <th>southeast</th>\n",
       "      <th>southwest</th>\n",
       "    </tr>\n",
       "  </thead>\n",
       "  <tbody>\n",
       "    <tr>\n",
       "      <th>0</th>\n",
       "      <td>19</td>\n",
       "      <td>0</td>\n",
       "      <td>27.900</td>\n",
       "      <td>0</td>\n",
       "      <td>1</td>\n",
       "      <td>southwest</td>\n",
       "      <td>16884.92400</td>\n",
       "      <td>0</td>\n",
       "      <td>0</td>\n",
       "      <td>0</td>\n",
       "      <td>1</td>\n",
       "    </tr>\n",
       "    <tr>\n",
       "      <th>1</th>\n",
       "      <td>18</td>\n",
       "      <td>1</td>\n",
       "      <td>33.770</td>\n",
       "      <td>1</td>\n",
       "      <td>0</td>\n",
       "      <td>southeast</td>\n",
       "      <td>1725.55230</td>\n",
       "      <td>0</td>\n",
       "      <td>0</td>\n",
       "      <td>1</td>\n",
       "      <td>0</td>\n",
       "    </tr>\n",
       "    <tr>\n",
       "      <th>2</th>\n",
       "      <td>28</td>\n",
       "      <td>1</td>\n",
       "      <td>33.000</td>\n",
       "      <td>3</td>\n",
       "      <td>0</td>\n",
       "      <td>southeast</td>\n",
       "      <td>4449.46200</td>\n",
       "      <td>0</td>\n",
       "      <td>0</td>\n",
       "      <td>1</td>\n",
       "      <td>0</td>\n",
       "    </tr>\n",
       "    <tr>\n",
       "      <th>3</th>\n",
       "      <td>33</td>\n",
       "      <td>1</td>\n",
       "      <td>22.705</td>\n",
       "      <td>0</td>\n",
       "      <td>0</td>\n",
       "      <td>northwest</td>\n",
       "      <td>21984.47061</td>\n",
       "      <td>0</td>\n",
       "      <td>1</td>\n",
       "      <td>0</td>\n",
       "      <td>0</td>\n",
       "    </tr>\n",
       "    <tr>\n",
       "      <th>4</th>\n",
       "      <td>32</td>\n",
       "      <td>1</td>\n",
       "      <td>28.880</td>\n",
       "      <td>0</td>\n",
       "      <td>0</td>\n",
       "      <td>northwest</td>\n",
       "      <td>3866.85520</td>\n",
       "      <td>0</td>\n",
       "      <td>1</td>\n",
       "      <td>0</td>\n",
       "      <td>0</td>\n",
       "    </tr>\n",
       "    <tr>\n",
       "      <th>...</th>\n",
       "      <td>...</td>\n",
       "      <td>...</td>\n",
       "      <td>...</td>\n",
       "      <td>...</td>\n",
       "      <td>...</td>\n",
       "      <td>...</td>\n",
       "      <td>...</td>\n",
       "      <td>...</td>\n",
       "      <td>...</td>\n",
       "      <td>...</td>\n",
       "      <td>...</td>\n",
       "    </tr>\n",
       "    <tr>\n",
       "      <th>1333</th>\n",
       "      <td>50</td>\n",
       "      <td>1</td>\n",
       "      <td>30.970</td>\n",
       "      <td>3</td>\n",
       "      <td>0</td>\n",
       "      <td>northwest</td>\n",
       "      <td>10600.54830</td>\n",
       "      <td>0</td>\n",
       "      <td>1</td>\n",
       "      <td>0</td>\n",
       "      <td>0</td>\n",
       "    </tr>\n",
       "    <tr>\n",
       "      <th>1334</th>\n",
       "      <td>18</td>\n",
       "      <td>0</td>\n",
       "      <td>31.920</td>\n",
       "      <td>0</td>\n",
       "      <td>0</td>\n",
       "      <td>northeast</td>\n",
       "      <td>2205.98080</td>\n",
       "      <td>1</td>\n",
       "      <td>0</td>\n",
       "      <td>0</td>\n",
       "      <td>0</td>\n",
       "    </tr>\n",
       "    <tr>\n",
       "      <th>1335</th>\n",
       "      <td>18</td>\n",
       "      <td>0</td>\n",
       "      <td>36.850</td>\n",
       "      <td>0</td>\n",
       "      <td>0</td>\n",
       "      <td>southeast</td>\n",
       "      <td>1629.83350</td>\n",
       "      <td>0</td>\n",
       "      <td>0</td>\n",
       "      <td>1</td>\n",
       "      <td>0</td>\n",
       "    </tr>\n",
       "    <tr>\n",
       "      <th>1336</th>\n",
       "      <td>21</td>\n",
       "      <td>0</td>\n",
       "      <td>25.800</td>\n",
       "      <td>0</td>\n",
       "      <td>0</td>\n",
       "      <td>southwest</td>\n",
       "      <td>2007.94500</td>\n",
       "      <td>0</td>\n",
       "      <td>0</td>\n",
       "      <td>0</td>\n",
       "      <td>1</td>\n",
       "    </tr>\n",
       "    <tr>\n",
       "      <th>1337</th>\n",
       "      <td>61</td>\n",
       "      <td>0</td>\n",
       "      <td>29.070</td>\n",
       "      <td>0</td>\n",
       "      <td>1</td>\n",
       "      <td>northwest</td>\n",
       "      <td>29141.36030</td>\n",
       "      <td>0</td>\n",
       "      <td>1</td>\n",
       "      <td>0</td>\n",
       "      <td>0</td>\n",
       "    </tr>\n",
       "  </tbody>\n",
       "</table>\n",
       "<p>1330 rows × 11 columns</p>\n",
       "</div>"
      ],
      "text/plain": [
       "      age  sex     bmi  children  smoker     region      charges  northeast  \\\n",
       "0      19    0  27.900         0       1  southwest  16884.92400          0   \n",
       "1      18    1  33.770         1       0  southeast   1725.55230          0   \n",
       "2      28    1  33.000         3       0  southeast   4449.46200          0   \n",
       "3      33    1  22.705         0       0  northwest  21984.47061          0   \n",
       "4      32    1  28.880         0       0  northwest   3866.85520          0   \n",
       "...   ...  ...     ...       ...     ...        ...          ...        ...   \n",
       "1333   50    1  30.970         3       0  northwest  10600.54830          0   \n",
       "1334   18    0  31.920         0       0  northeast   2205.98080          1   \n",
       "1335   18    0  36.850         0       0  southeast   1629.83350          0   \n",
       "1336   21    0  25.800         0       0  southwest   2007.94500          0   \n",
       "1337   61    0  29.070         0       1  northwest  29141.36030          0   \n",
       "\n",
       "      northwest  southeast  southwest  \n",
       "0             0          0          1  \n",
       "1             0          1          0  \n",
       "2             0          1          0  \n",
       "3             1          0          0  \n",
       "4             1          0          0  \n",
       "...         ...        ...        ...  \n",
       "1333          1          0          0  \n",
       "1334          0          0          0  \n",
       "1335          0          1          0  \n",
       "1336          0          0          1  \n",
       "1337          1          0          0  \n",
       "\n",
       "[1330 rows x 11 columns]"
      ]
     },
     "execution_count": 668,
     "metadata": {},
     "output_type": "execute_result"
    }
   ],
   "source": [
    "df2"
   ]
  },
  {
   "cell_type": "code",
   "execution_count": 669,
   "id": "5da77a56",
   "metadata": {},
   "outputs": [],
   "source": [
    "# Dropping the Original Region feature since its Encoded Already\n",
    "df2.drop(df2[['region']],axis=1,inplace=True)"
   ]
  },
  {
   "cell_type": "code",
   "execution_count": 670,
   "id": "49a15c60",
   "metadata": {
    "scrolled": true
   },
   "outputs": [
    {
     "data": {
      "text/html": [
       "<div>\n",
       "<style scoped>\n",
       "    .dataframe tbody tr th:only-of-type {\n",
       "        vertical-align: middle;\n",
       "    }\n",
       "\n",
       "    .dataframe tbody tr th {\n",
       "        vertical-align: top;\n",
       "    }\n",
       "\n",
       "    .dataframe thead th {\n",
       "        text-align: right;\n",
       "    }\n",
       "</style>\n",
       "<table border=\"1\" class=\"dataframe\">\n",
       "  <thead>\n",
       "    <tr style=\"text-align: right;\">\n",
       "      <th></th>\n",
       "      <th>age</th>\n",
       "      <th>sex</th>\n",
       "      <th>bmi</th>\n",
       "      <th>children</th>\n",
       "      <th>smoker</th>\n",
       "      <th>charges</th>\n",
       "      <th>northeast</th>\n",
       "      <th>northwest</th>\n",
       "      <th>southeast</th>\n",
       "      <th>southwest</th>\n",
       "    </tr>\n",
       "  </thead>\n",
       "  <tbody>\n",
       "    <tr>\n",
       "      <th>0</th>\n",
       "      <td>19</td>\n",
       "      <td>0</td>\n",
       "      <td>27.900</td>\n",
       "      <td>0</td>\n",
       "      <td>1</td>\n",
       "      <td>16884.92400</td>\n",
       "      <td>0</td>\n",
       "      <td>0</td>\n",
       "      <td>0</td>\n",
       "      <td>1</td>\n",
       "    </tr>\n",
       "    <tr>\n",
       "      <th>1</th>\n",
       "      <td>18</td>\n",
       "      <td>1</td>\n",
       "      <td>33.770</td>\n",
       "      <td>1</td>\n",
       "      <td>0</td>\n",
       "      <td>1725.55230</td>\n",
       "      <td>0</td>\n",
       "      <td>0</td>\n",
       "      <td>1</td>\n",
       "      <td>0</td>\n",
       "    </tr>\n",
       "    <tr>\n",
       "      <th>2</th>\n",
       "      <td>28</td>\n",
       "      <td>1</td>\n",
       "      <td>33.000</td>\n",
       "      <td>3</td>\n",
       "      <td>0</td>\n",
       "      <td>4449.46200</td>\n",
       "      <td>0</td>\n",
       "      <td>0</td>\n",
       "      <td>1</td>\n",
       "      <td>0</td>\n",
       "    </tr>\n",
       "    <tr>\n",
       "      <th>3</th>\n",
       "      <td>33</td>\n",
       "      <td>1</td>\n",
       "      <td>22.705</td>\n",
       "      <td>0</td>\n",
       "      <td>0</td>\n",
       "      <td>21984.47061</td>\n",
       "      <td>0</td>\n",
       "      <td>1</td>\n",
       "      <td>0</td>\n",
       "      <td>0</td>\n",
       "    </tr>\n",
       "  </tbody>\n",
       "</table>\n",
       "</div>"
      ],
      "text/plain": [
       "   age  sex     bmi  children  smoker      charges  northeast  northwest  \\\n",
       "0   19    0  27.900         0       1  16884.92400          0          0   \n",
       "1   18    1  33.770         1       0   1725.55230          0          0   \n",
       "2   28    1  33.000         3       0   4449.46200          0          0   \n",
       "3   33    1  22.705         0       0  21984.47061          0          1   \n",
       "\n",
       "   southeast  southwest  \n",
       "0          0          1  \n",
       "1          1          0  \n",
       "2          1          0  \n",
       "3          0          0  "
      ]
     },
     "execution_count": 670,
     "metadata": {},
     "output_type": "execute_result"
    }
   ],
   "source": [
    "df2.head(4)"
   ]
  },
  {
   "cell_type": "markdown",
   "id": "733c1c1d",
   "metadata": {},
   "source": [
    "<h5> Creating X and Y Variables -</h5>"
   ]
  },
  {
   "cell_type": "code",
   "execution_count": 671,
   "id": "cecd74dc",
   "metadata": {},
   "outputs": [],
   "source": [
    "X =df2[['age','bmi','smoker','children','northeast','northwest','southeast','southwest']]\n",
    "Y = df2.charges.values"
   ]
  },
  {
   "cell_type": "markdown",
   "id": "5c939e2a",
   "metadata": {},
   "source": [
    "<p> Train and test data Set</p>"
   ]
  },
  {
   "cell_type": "code",
   "execution_count": 672,
   "id": "728ad404",
   "metadata": {},
   "outputs": [],
   "source": [
    "from sklearn.model_selection import train_test_split\n",
    "X_train,x_test,y_train,y_test = train_test_split(X,Y,test_size=0.2)"
   ]
  },
  {
   "cell_type": "markdown",
   "id": "165533ca",
   "metadata": {},
   "source": [
    "<p> Scaling the Charges using Standard Scalar Considering the large values</p>"
   ]
  },
  {
   "cell_type": "code",
   "execution_count": 673,
   "id": "56a2804b",
   "metadata": {},
   "outputs": [],
   "source": [
    "from sklearn.preprocessing import StandardScaler\n",
    "numeric=['age','bmi','children']\n",
    "scaled=StandardScaler()\n",
    "X_train[numeric]=scaled.fit_transform(X_train[numeric])\n",
    "x_test[numeric]=scaled.transform(x_test[numeric])"
   ]
  },
  {
   "cell_type": "markdown",
   "id": "6ee653d1",
   "metadata": {},
   "source": [
    "<h3> Applying ML Algorithms</h3>\n",
    "<p>\n",
    "    We will work with three Algorithms : LinearRegression, DecisionTrees and RandomForest and pick the best Regressor\n",
    "    </p>"
   ]
  },
  {
   "cell_type": "code",
   "execution_count": 738,
   "id": "1148a503",
   "metadata": {},
   "outputs": [],
   "source": [
    "# SInce I hope to Compare Three Algorithms, let create a metrics Evaluation Table \n",
    "metrics=pd.DataFrame()\n",
    "Model=[]\n",
    "rmse=[]\n",
    "mae=[]\n",
    "r2=[]"
   ]
  },
  {
   "cell_type": "code",
   "execution_count": 718,
   "id": "2c0bcbfe",
   "metadata": {},
   "outputs": [],
   "source": [
    "from sklearn.linear_model import LinearRegression"
   ]
  },
  {
   "cell_type": "code",
   "execution_count": 675,
   "id": "3da31d54",
   "metadata": {},
   "outputs": [],
   "source": [
    "# Initialize LinearRegression\n",
    "model = LinearRegression()"
   ]
  },
  {
   "cell_type": "code",
   "execution_count": 676,
   "id": "4d66a777",
   "metadata": {},
   "outputs": [
    {
     "data": {
      "text/plain": [
       "LinearRegression()"
      ]
     },
     "execution_count": 676,
     "metadata": {},
     "output_type": "execute_result"
    }
   ],
   "source": [
    "# Training Model\n",
    "model.fit(X_train,y_train)"
   ]
  },
  {
   "cell_type": "code",
   "execution_count": 741,
   "id": "e6e975d2",
   "metadata": {},
   "outputs": [
    {
     "data": {
      "text/plain": [
       "(0.7663545236119464, 3963.0291318674276, 5872.434415687539)"
      ]
     },
     "execution_count": 741,
     "metadata": {},
     "output_type": "execute_result"
    }
   ],
   "source": [
    "# Checking for Model Accuracy on Test Data\n",
    "l_predict = linearR.predict(x_test)\n",
    "\n",
    "scr1 =r2_score(y_test, l_predict)\n",
    "mean_abs1 =mean_absolute_error(y_test, l_predict)\n",
    "mean_sqe1 =np.sqrt(mean_squared_error(y_test, l_predict))\n",
    "# model.score(x_test,y_test)\n",
    "(scr1,mean_abs1,mean_sqe1)"
   ]
  },
  {
   "cell_type": "markdown",
   "id": "6d2f7fd3",
   "metadata": {},
   "source": [
    "<p> Linear Regression gives us an Accuracy of 0.79 which is not bad but let check other Ml Algorithm</p>"
   ]
  },
  {
   "cell_type": "code",
   "execution_count": 743,
   "id": "b68f667f",
   "metadata": {},
   "outputs": [
    {
     "data": {
      "text/plain": [
       "(0.6841590966419762, 3221.275175827068, 6827.688094268611)"
      ]
     },
     "execution_count": 743,
     "metadata": {},
     "output_type": "execute_result"
    }
   ],
   "source": [
    "from sklearn.tree import DecisionTreeRegressor\n",
    "\n",
    "model2 = DecisionTreeRegressor(random_state=1)\n",
    "model2.fit(X_train, y_train)\n",
    "y_predict = model2.predict(x_test)\n",
    "scr2 =r2_score(y_test, y_predict)\n",
    "mean_abs2 =mean_absolute_error(y_test, y_predict)\n",
    "mean_sqe2 =np.sqrt(mean_squared_error(y_test, y_predict))\n",
    "#model.score(x_test,y_test)\n",
    "(scr2,mean_abs2,mean_sqe2)"
   ]
  },
  {
   "cell_type": "markdown",
   "id": "db4fcc60",
   "metadata": {},
   "source": [
    "<p> Accuracy is 0.68 lesser than Linear Regression</p>"
   ]
  },
  {
   "cell_type": "markdown",
   "id": "97cc5cfe",
   "metadata": {},
   "source": [
    "<h3> Random Forest Regressor</h3>"
   ]
  },
  {
   "cell_type": "code",
   "execution_count": 744,
   "id": "28a557bc",
   "metadata": {},
   "outputs": [],
   "source": [
    "from sklearn.ensemble import RandomForestRegressor\n",
    "model = RandomForestRegressor(n_estimators=120, random_state=0)\n",
    "model.fit(X_train, y_train)\n",
    "y_pred = model.predict(x_test)"
   ]
  },
  {
   "cell_type": "code",
   "execution_count": 745,
   "id": "a21f6861",
   "metadata": {
    "scrolled": true
   },
   "outputs": [
    {
     "data": {
      "text/plain": [
       "0.8455126977762193"
      ]
     },
     "execution_count": 745,
     "metadata": {},
     "output_type": "execute_result"
    }
   ],
   "source": [
    "model.score(x_test,y_test)"
   ]
  },
  {
   "cell_type": "code",
   "execution_count": 746,
   "id": "85c6a304",
   "metadata": {},
   "outputs": [],
   "source": [
    "#Encoding the region Features\n",
    "# dummy =pd.get_dummies(df2['region'])\n",
    "# df2 = pd.concat([df2,dummy],axis=1)\n",
    "# df2\n",
    "#df2.drop(df2[['smoker']],axis=1,inplace=True)"
   ]
  },
  {
   "cell_type": "code",
   "execution_count": 684,
   "id": "7d47daf1",
   "metadata": {},
   "outputs": [],
   "source": [
    "# param_grid = {'n_estimators': [100, 80, 60, 55, 51, 45],  \n",
    "#               'max_depth': [7, 8],\n",
    "#               'max_features':['auto', 'sqrt']\n",
    "#              }\n",
    "# clf = GridSearchCV(RandomForestRegressor(random_state=0),param_grid,cv=5,return_train_score=False)"
   ]
  },
  {
   "cell_type": "code",
   "execution_count": 685,
   "id": "bd975c65",
   "metadata": {},
   "outputs": [],
   "source": [
    "#clf.best_score_"
   ]
  },
  {
   "cell_type": "code",
   "execution_count": 686,
   "id": "60af6963",
   "metadata": {
    "scrolled": true
   },
   "outputs": [
    {
     "data": {
      "text/plain": [
       "RandomizedSearchCV(cv=5, estimator=RandomForestRegressor(random_state=0),\n",
       "                   n_iter=5,\n",
       "                   param_distributions={'max_depth': [7, 8],\n",
       "                                        'max_features': ['auto', 'sqrt'],\n",
       "                                        'n_estimators': [100, 80, 60, 55, 51,\n",
       "                                                         45]})"
      ]
     },
     "execution_count": 686,
     "metadata": {},
     "output_type": "execute_result"
    }
   ],
   "source": [
    "rscv = RandomizedSearchCV(RandomForestRegressor(random_state=0),param_grid,cv=5,return_train_score=False,n_iter=5)\n",
    "rscv.fit(X_train, y_train)"
   ]
  },
  {
   "cell_type": "code",
   "execution_count": 687,
   "id": "bab06bdd",
   "metadata": {},
   "outputs": [
    {
     "data": {
      "text/plain": [
       "0.8508643522595122"
      ]
     },
     "execution_count": 687,
     "metadata": {},
     "output_type": "execute_result"
    }
   ],
   "source": [
    "rscv.best_score_"
   ]
  },
  {
   "cell_type": "code",
   "execution_count": 688,
   "id": "7f3a8f33",
   "metadata": {},
   "outputs": [
    {
     "data": {
      "text/plain": [
       "{'n_estimators': 60, 'max_features': 'auto', 'max_depth': 7}"
      ]
     },
     "execution_count": 688,
     "metadata": {},
     "output_type": "execute_result"
    }
   ],
   "source": [
    "rscv.best_params_"
   ]
  },
  {
   "cell_type": "code",
   "execution_count": 707,
   "id": "3ace6944",
   "metadata": {},
   "outputs": [],
   "source": [
    "parameters = { 'max_features': ['auto', 'sqrt'],\n",
    "                  \"n_estimators\" : sp_randInt(100, 1000),\n",
    "                  \"max_depth\"    : sp_randInt(4, 10)\n",
    "                 }"
   ]
  },
  {
   "cell_type": "code",
   "execution_count": 749,
   "id": "2a13bc0a",
   "metadata": {},
   "outputs": [
    {
     "data": {
      "text/plain": [
       "RandomizedSearchCV(cv=4,\n",
       "                   estimator=RandomForestRegressor(n_estimators=120,\n",
       "                                                   random_state=0),\n",
       "                   n_jobs=-1,\n",
       "                   param_distributions={'max_depth': <scipy.stats._distn_infrastructure.rv_frozen object at 0x00000210AD2ACBB0>,\n",
       "                                        'max_features': ['auto', 'sqrt'],\n",
       "                                        'n_estimators': <scipy.stats._distn_infrastructure.rv_frozen object at 0x00000210AD2857F0>})"
      ]
     },
     "execution_count": 749,
     "metadata": {},
     "output_type": "execute_result"
    }
   ],
   "source": [
    "randm = RandomizedSearchCV(estimator=model, param_distributions = parameters,\n",
    "                               cv = 4, n_iter = 10, n_jobs=-1)\n",
    "randm.fit(X_train, y_train)\n",
    "# randm.best_score_"
   ]
  },
  {
   "cell_type": "code",
   "execution_count": 709,
   "id": "2145c795",
   "metadata": {},
   "outputs": [
    {
     "data": {
      "text/plain": [
       "{'max_depth': 5, 'max_features': 'auto', 'n_estimators': 234}"
      ]
     },
     "execution_count": 709,
     "metadata": {},
     "output_type": "execute_result"
    }
   ],
   "source": [
    "randm.best_params_"
   ]
  },
  {
   "cell_type": "code",
   "execution_count": 747,
   "id": "a6644a1b",
   "metadata": {},
   "outputs": [],
   "source": [
    "y_pred2 = randm.predict(x_test)"
   ]
  },
  {
   "cell_type": "code",
   "execution_count": 748,
   "id": "44baec85",
   "metadata": {},
   "outputs": [
    {
     "data": {
      "text/plain": [
       "(0.86372722378014, 2380.9981629333906, 4484.809893938582)"
      ]
     },
     "execution_count": 748,
     "metadata": {},
     "output_type": "execute_result"
    }
   ],
   "source": [
    "scr3 =r2_score(y_test, y_pred2)\n",
    "mean_abs3 =mean_absolute_error(y_test, y_pred2)\n",
    "mean_sqe3 =np.sqrt(mean_squared_error(y_test, y_pred2))\n",
    "#model.score(x_test,y_test)\n",
    "(scr3,mean_abs3,mean_sqe3)"
   ]
  },
  {
   "cell_type": "code",
   "execution_count": 750,
   "id": "f4e3acc1",
   "metadata": {},
   "outputs": [
    {
     "ename": "TypeError",
     "evalue": "list indices must be integers or slices, not tuple",
     "output_type": "error",
     "traceback": [
      "\u001b[1;31m---------------------------------------------------------------------------\u001b[0m",
      "\u001b[1;31mTypeError\u001b[0m                                 Traceback (most recent call last)",
      "\u001b[1;32mC:\\Users\\BRAINP~1\\AppData\\Local\\Temp/ipykernel_21308/628846857.py\u001b[0m in \u001b[0;36m<module>\u001b[1;34m\u001b[0m\n\u001b[0;32m      1\u001b[0m \u001b[1;31m#Collating Model for dataFrame Preview\u001b[0m\u001b[1;33m\u001b[0m\u001b[1;33m\u001b[0m\u001b[1;33m\u001b[0m\u001b[0m\n\u001b[1;32m----> 2\u001b[1;33m \u001b[0mModel\u001b[0m\u001b[1;33m[\u001b[0m\u001b[1;34m'Linear Regression'\u001b[0m\u001b[1;33m,\u001b[0m\u001b[1;34m'DecisionTrees'\u001b[0m\u001b[1;33m,\u001b[0m\u001b[1;34m'RandomForest Regression'\u001b[0m\u001b[1;33m]\u001b[0m\u001b[1;33m\u001b[0m\u001b[1;33m\u001b[0m\u001b[0m\n\u001b[0m\u001b[0;32m      3\u001b[0m \u001b[0mrmse\u001b[0m\u001b[1;33m[\u001b[0m\u001b[0mmean_sqe1\u001b[0m\u001b[1;33m,\u001b[0m\u001b[0mmean_sqe2\u001b[0m\u001b[1;33m,\u001b[0m\u001b[0mmean_sqe3\u001b[0m\u001b[1;33m]\u001b[0m\u001b[1;33m\u001b[0m\u001b[1;33m\u001b[0m\u001b[0m\n\u001b[0;32m      4\u001b[0m \u001b[0mmae\u001b[0m\u001b[1;33m[\u001b[0m\u001b[0mmean_abs1\u001b[0m\u001b[1;33m,\u001b[0m\u001b[0mmean_abs2\u001b[0m\u001b[1;33m,\u001b[0m\u001b[0mmean_abs3\u001b[0m\u001b[1;33m]\u001b[0m\u001b[1;33m\u001b[0m\u001b[1;33m\u001b[0m\u001b[0m\n\u001b[0;32m      5\u001b[0m \u001b[0mr2\u001b[0m\u001b[1;33m[\u001b[0m\u001b[0mscr1\u001b[0m\u001b[1;33m,\u001b[0m\u001b[0mscr2\u001b[0m\u001b[1;33m,\u001b[0m\u001b[0mscr3\u001b[0m\u001b[1;33m]\u001b[0m\u001b[1;33m\u001b[0m\u001b[1;33m\u001b[0m\u001b[0m\n",
      "\u001b[1;31mTypeError\u001b[0m: list indices must be integers or slices, not tuple"
     ]
    }
   ],
   "source": [
    "#Collating Model for dataFrame Preview\n",
    "Model['Linear Regression','DecisionTrees','RandomForest Regression']\n",
    "rmse[mean_sqe1,mean_sqe2,mean_sqe3]\n",
    "mae[mean_abs1,mean_abs2,mean_abs3]\n",
    "r2[scr1,scr2,scr3]"
   ]
  },
  {
   "cell_type": "code",
   "execution_count": 715,
   "id": "661680b2",
   "metadata": {},
   "outputs": [
    {
     "data": {
      "text/html": [
       "<div>\n",
       "<style scoped>\n",
       "    .dataframe tbody tr th:only-of-type {\n",
       "        vertical-align: middle;\n",
       "    }\n",
       "\n",
       "    .dataframe tbody tr th {\n",
       "        vertical-align: top;\n",
       "    }\n",
       "\n",
       "    .dataframe thead th {\n",
       "        text-align: right;\n",
       "    }\n",
       "</style>\n",
       "<table border=\"1\" class=\"dataframe\">\n",
       "  <thead>\n",
       "    <tr style=\"text-align: right;\">\n",
       "      <th></th>\n",
       "      <th>Model</th>\n",
       "      <th>rmse</th>\n",
       "      <th>mae</th>\n",
       "      <th>r2</th>\n",
       "    </tr>\n",
       "  </thead>\n",
       "  <tbody>\n",
       "    <tr>\n",
       "      <th>0</th>\n",
       "      <td>200</td>\n",
       "      <td>1</td>\n",
       "      <td>1</td>\n",
       "      <td>3</td>\n",
       "    </tr>\n",
       "    <tr>\n",
       "      <th>1</th>\n",
       "      <td>150</td>\n",
       "      <td>5</td>\n",
       "      <td>9</td>\n",
       "      <td>4</td>\n",
       "    </tr>\n",
       "  </tbody>\n",
       "</table>\n",
       "</div>"
      ],
      "text/plain": [
       "   Model  rmse  mae  r2\n",
       "0    200     1    1   3\n",
       "1    150     5    9   4"
      ]
     },
     "execution_count": 715,
     "metadata": {},
     "output_type": "execute_result"
    }
   ],
   "source": [
    "metrics['Model']=Model\n",
    "metrics['rmse']=rmse\n",
    "metrics['mae']=mae\n",
    "metrics['r2']=r2\n",
    "metrics"
   ]
  },
  {
   "cell_type": "code",
   "execution_count": null,
   "id": "8616d489",
   "metadata": {},
   "outputs": [],
   "source": []
  }
 ],
 "metadata": {
  "kernelspec": {
   "display_name": "Python 3 (ipykernel)",
   "language": "python",
   "name": "python3"
  },
  "language_info": {
   "codemirror_mode": {
    "name": "ipython",
    "version": 3
   },
   "file_extension": ".py",
   "mimetype": "text/x-python",
   "name": "python",
   "nbconvert_exporter": "python",
   "pygments_lexer": "ipython3",
   "version": "3.9.0"
  }
 },
 "nbformat": 4,
 "nbformat_minor": 5
}
